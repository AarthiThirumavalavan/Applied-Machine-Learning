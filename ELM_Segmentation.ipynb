{
  "nbformat": 4,
  "nbformat_minor": 0,
  "metadata": {
    "colab": {
      "provenance": [],
      "authorship_tag": "ABX9TyNlaOiMKMzqY6QZElpHtQQX"
    },
    "kernelspec": {
      "name": "python3",
      "display_name": "Python 3"
    }
  },
  "cells": [
    {
      "cell_type": "code",
      "metadata": {
        "id": "k_aia3oKQ3kb"
      },
      "source": [
        "#Import packages\n",
        "import cv2\n",
        "import skimage"
      ],
      "execution_count": null,
      "outputs": []
    },
    {
      "cell_type": "code",
      "metadata": {
        "colab": {
          "base_uri": "https://localhost:8080/"
        },
        "id": "ZbeMh2ulYGVc",
        "outputId": "a5c4144a-59fe-4e5d-9f4c-5dfeac8a1fe6"
      },
      "source": [
        "!pip install mahotas"
      ],
      "execution_count": null,
      "outputs": [
        {
          "output_type": "stream",
          "text": [
            "Requirement already satisfied: mahotas in /usr/local/lib/python3.6/dist-packages (1.4.11)\n",
            "Requirement already satisfied: numpy in /usr/local/lib/python3.6/dist-packages (from mahotas) (1.19.5)\n"
          ],
          "name": "stdout"
        }
      ]
    },
    {
      "cell_type": "code",
      "metadata": {
        "colab": {
          "base_uri": "https://localhost:8080/"
        },
        "id": "OhqoB9yghOhq",
        "outputId": "04a5129b-88b6-4e5a-df9e-05907e5141fd"
      },
      "source": [
        "#Mount drive\n",
        "from google.colab import drive\n",
        "drive.mount(\"/content/drive\", force_remount=True)"
      ],
      "execution_count": null,
      "outputs": [
        {
          "output_type": "stream",
          "text": [
            "Mounted at /content/drive\n"
          ],
          "name": "stdout"
        }
      ]
    },
    {
      "cell_type": "code",
      "metadata": {
        "id": "dN7qFJJsRPvW"
      },
      "source": [
        "import sys\n",
        "sys.path.append('/content/drive/MyDrive/8Feb_new')\n"
      ],
      "execution_count": null,
      "outputs": []
    },
    {
      "cell_type": "code",
      "metadata": {
        "id": "a29JTQsqhhci"
      },
      "source": [
        "from ELM import *\n",
        "from features import *\n",
        "from ELM_segmentation import *"
      ],
      "execution_count": null,
      "outputs": []
    },
    {
      "cell_type": "code",
      "metadata": {
        "id": "I5GMcUQEUCuU"
      },
      "source": [
        "#Read data\n",
        "image_dir = '/content/drive/MyDrive/8Feb_new/pots/images/store'\n",
        "label_dir = '/content/drive/MyDrive/8Feb_new/pots/labels/store'"
      ],
      "execution_count": null,
      "outputs": []
    },
    {
      "cell_type": "code",
      "metadata": {
        "colab": {
          "base_uri": "https://localhost:8080/"
        },
        "id": "072pJ0uisrcx",
        "outputId": "90259f40-460c-4dc2-c94c-54401c2bb13e"
      },
      "source": [
        "image_list, label_list = read_data(image_dir, label_dir)"
      ],
      "execution_count": null,
      "outputs": [
        {
          "output_type": "stream",
          "text": [
            "[INFO] Reading image data.\n",
            "[INFO] Creating training dataset on 2 image(s).\n",
            "[INFO] Computing local binary pattern features.\n",
            "[INFO] Computing local binary pattern features.\n",
            "[INFO] Feature vector size: (1600, 4)\n"
          ],
          "name": "stdout"
        }
      ]
    },
    {
      "cell_type": "code",
      "metadata": {
        "colab": {
          "base_uri": "https://localhost:8080/"
        },
        "id": "FH-ir3-oBbOM",
        "outputId": "081b458b-52ab-4a7e-bb83-48984c4ee0f4"
      },
      "source": [
        "len(image_list)"
      ],
      "execution_count": null,
      "outputs": [
        {
          "output_type": "execute_result",
          "data": {
            "text/plain": [
              "2"
            ]
          },
          "metadata": {
            "tags": []
          },
          "execution_count": 52
        }
      ]
    },
    {
      "cell_type": "code",
      "metadata": {
        "colab": {
          "base_uri": "https://localhost:8080/"
        },
        "id": "Ii9HY5aH0_0s",
        "outputId": "71989f4f-23e3-4d87-f838-7fcbcbd7c499"
      },
      "source": [
        "X = []\n",
        "y = []\n",
        "\n",
        "for i, img in enumerate(image_list):\n",
        "  img_gray = cv2.cvtColor(img, cv2.COLOR_BGR2GRAY)\n",
        "\n",
        "  lbp_radius = 24 # local binary pattern neighbourhood\n",
        "  h_neigh = 11 # haralick neighbourhood\n",
        "  num_examples = 1000 # number of examples per image to use for training model\n",
        "  lbp_points = lbp_radius*8\n",
        "  h_ind = int((h_neigh - 1)/ 2)\n",
        "\n",
        "  feature_img = np.zeros((img.shape[0],img.shape[1],4))\n",
        "  feature_img[:,:,:3] = img/255.0\n",
        "  img = None\n",
        "  feature_img[:,:,3] = create_binary_pattern(img_gray, lbp_points, lbp_radius)\n",
        "  feature_img = feature_img[h_ind:-h_ind, h_ind:-h_ind]\n",
        "  features = feature_img.reshape(feature_img.shape[0]*feature_img.shape[1], feature_img.shape[2])\n",
        "\n",
        "  #subsampling to get random 1000 pixels of the image\n",
        "  ss_idx = subsample_idx(0, features.shape[0], num_examples)\n",
        "  features = features[ss_idx]\n",
        "\n",
        "  label = label_list[i]\n",
        "  label = label[h_ind:-h_ind, h_ind:-h_ind]\n",
        "  labels = label.reshape(label.shape[0]*label.shape[1], 1)\n",
        "  labels = labels[ss_idx]\n",
        "\n",
        "  X.append(features)\n",
        "  y.append(labels)"
      ],
      "execution_count": null,
      "outputs": [
        {
          "output_type": "stream",
          "text": [
            "[INFO] Computing local binary pattern features.\n",
            "[INFO] Computing local binary pattern features.\n"
          ],
          "name": "stdout"
        }
      ]
    },
    {
      "cell_type": "code",
      "metadata": {
        "colab": {
          "base_uri": "https://localhost:8080/"
        },
        "id": "q-KdYGu7AzNL",
        "outputId": "9a72c5d8-918c-4635-c84f-b7b85f87d49e"
      },
      "source": [
        "y.shape"
      ],
      "execution_count": null,
      "outputs": [
        {
          "output_type": "execute_result",
          "data": {
            "text/plain": [
              "(2000,)"
            ]
          },
          "metadata": {
            "tags": []
          },
          "execution_count": 53
        }
      ]
    },
    {
      "cell_type": "code",
      "metadata": {
        "id": "N4FYpDOz1KO4"
      },
      "source": [
        "X = np.array(X)\n",
        "y = np.array(y)"
      ],
      "execution_count": null,
      "outputs": []
    },
    {
      "cell_type": "code",
      "metadata": {
        "id": "CLtwjZEC1OAD"
      },
      "source": [
        "X_train, X_test, y_train, y_test = train_test_split(X, y, test_size=0.2, random_state=42)"
      ],
      "execution_count": null,
      "outputs": []
    },
    {
      "cell_type": "code",
      "metadata": {
        "id": "cNMAxChtsw5o"
      },
      "source": [
        "scaler = MinMaxScaler((-1.0,1.0))\n",
        "scaler.fit(X_train)\n",
        "X_train=scaler.transform(X_train)\n",
        "X_test = scaler.transform(X_test)"
      ],
      "execution_count": null,
      "outputs": []
    },
    {
      "cell_type": "code",
      "metadata": {
        "id": "DErbFVZYs0SK"
      },
      "source": [
        "ELM_obj = ELM(X_train.shape[1],500)\n",
        "ELM_obj.fit(X_train,y_train/255.0,1e-2)\n",
        "predY = ELM_obj.predict(X_train)\n",
        "predTY = ELM_obj.predict(X_test)\n",
        "predY[predY<0.5]=0\n",
        "predY[predY>=0.5]=1\n",
        "predTY[predTY<0.5]=0\n",
        "predTY[predTY>=0.5]=1"
      ],
      "execution_count": null,
      "outputs": []
    },
    {
      "cell_type": "code",
      "metadata": {
        "colab": {
          "base_uri": "https://localhost:8080/"
        },
        "id": "Fz6HxJrBs8ig",
        "outputId": "7d0878f8-eba2-4960-d1fc-dda2d56ec894"
      },
      "source": [
        "TrainAccuracy = np.mean(y_train/255 == predY)\n",
        "TestAccuracy = np.mean(y_test/255 == predTY)\n",
        "print('Train Accuracy is {:}\\nTest Accuracy is {:}'.format(np.round(TrainAccuracy*100,4),np.round(TestAccuracy*100,4)))"
      ],
      "execution_count": null,
      "outputs": [
        {
          "output_type": "stream",
          "text": [
            "Train Accuracy is 81.1875\n",
            "Test Accuracy is 80.75\n"
          ],
          "name": "stdout"
        }
      ]
    },
    {
      "cell_type": "code",
      "metadata": {
        "colab": {
          "base_uri": "https://localhost:8080/"
        },
        "id": "29KL9TS7tECj",
        "outputId": "c3d3cbd4-9321-4424-bf45-a0e78e3c84be"
      },
      "source": [
        "img_test = cv2.imread('/content/drive/MyDrive/8Feb_new/pots_block_2_28.jpg', 1)\n",
        "img_gray = cv2.cvtColor(img_test, cv2.COLOR_BGR2GRAY)\n",
        "features, labels, feature_img =create_features(img_test, img_gray, label=None, train=False)\n",
        "seg_size = int(math.sqrt(features.shape[0]))\n",
        "seg_val = ELM_obj.predict(scaler.transform(features))\n",
        "seg_val[seg_val < 0.5] = 0\n",
        "seg_val[seg_val >= 0.5] =1\n",
        "seg_val = seg_val*255\n",
        "seg_val = seg_val.astype(np.uint8)\n",
        "seg_img = np.reshape(seg_val,(seg_size,seg_size))"
      ],
      "execution_count": null,
      "outputs": [
        {
          "output_type": "stream",
          "text": [
            "[INFO] Computing local binary pattern features.\n"
          ],
          "name": "stdout"
        }
      ]
    },
    {
      "cell_type": "code",
      "metadata": {
        "colab": {
          "base_uri": "https://localhost:8080/",
          "height": 607
        },
        "id": "BtFABq2QvPuh",
        "outputId": "8f2696cb-27eb-4414-b90e-12afb80a0ff3"
      },
      "source": [
        "from google.colab.patches import cv2_imshow\n",
        "cv2_imshow(seg_img)"
      ],
      "execution_count": null,
      "outputs": [
        {
          "output_type": "display_data",
          "data": {
            "image/png": "[encoded data removed]",
            "text/plain": [
              "<PIL.Image.Image image mode=L size=590x590 at 0x7F36A9056358>"
            ]
          },
          "metadata": {
            "tags": []
          }
        }
      ]
    }
  ]
}